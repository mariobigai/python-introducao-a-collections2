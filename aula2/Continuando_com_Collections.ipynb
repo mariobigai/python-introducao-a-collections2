{
  "nbformat": 4,
  "nbformat_minor": 0,
  "metadata": {
    "colab": {
      "name": "Continuando com Collections",
      "provenance": [],
      "include_colab_link": true
    },
    "kernelspec": {
      "name": "python3",
      "display_name": "Python 3"
    }
  },
  "cells": [
    {
      "cell_type": "markdown",
      "metadata": {
        "id": "view-in-github",
        "colab_type": "text"
      },
      "source": [
        "<a href=\"https://colab.research.google.com/github/mariobigai/python-introducao-a-collections2/blob/aula01/aula2/Continuando_com_Collections.ipynb\" target=\"_parent\"><img src=\"https://colab.research.google.com/assets/colab-badge.svg\" alt=\"Open In Colab\"/></a>"
      ]
    },
    {
      "cell_type": "markdown",
      "source": [
        "## Aula 1: Conjuntos"
      ],
      "metadata": {
        "id": "zFzHgWQzNBDh"
      }
    },
    {
      "metadata": {
        "id": "u24cmniXRG2N"
      },
      "cell_type": "code",
      "source": [
        "usuarios_data_science = [15, 23, 43, 56]\n",
        "usuarios_machine_learning = [13, 23, 56, 42]"
      ],
      "execution_count": 1,
      "outputs": []
    },
    {
      "metadata": {
        "id": "BxVM4-kHRdJT",
        "colab": {
          "base_uri": "https://localhost:8080/"
        },
        "outputId": "2e3d082f-9e13-417c-bedc-553bd4bf512e"
      },
      "cell_type": "code",
      "source": [
        "assistiram = usuarios_data_science.copy()\n",
        "assistiram.extend(usuarios_machine_learning)\n",
        "assistiram"
      ],
      "execution_count": 2,
      "outputs": [
        {
          "output_type": "execute_result",
          "data": {
            "text/plain": [
              "[15, 23, 43, 56, 13, 23, 56, 42]"
            ]
          },
          "metadata": {},
          "execution_count": 2
        }
      ]
    },
    {
      "metadata": {
        "id": "A-PMbzh1Rwhb",
        "colab": {
          "base_uri": "https://localhost:8080/"
        },
        "outputId": "fa0e88e6-48d1-4013-80cb-2c2686546965"
      },
      "cell_type": "code",
      "source": [
        "len(assistiram)"
      ],
      "execution_count": 3,
      "outputs": [
        {
          "output_type": "execute_result",
          "data": {
            "text/plain": [
              "8"
            ]
          },
          "metadata": {},
          "execution_count": 3
        }
      ]
    },
    {
      "metadata": {
        "id": "oHQEUJl1SIex",
        "colab": {
          "base_uri": "https://localhost:8080/"
        },
        "outputId": "461fa051-67a0-406d-9be1-c8133b057bf4"
      },
      "cell_type": "code",
      "source": [
        "set(assistiram)"
      ],
      "execution_count": 4,
      "outputs": [
        {
          "output_type": "execute_result",
          "data": {
            "text/plain": [
              "{13, 15, 23, 42, 43, 56}"
            ]
          },
          "metadata": {},
          "execution_count": 4
        }
      ]
    },
    {
      "metadata": {
        "id": "_MWRnPUfTvft",
        "colab": {
          "base_uri": "https://localhost:8080/"
        },
        "outputId": "7e535b8d-9406-4eb3-cc1a-e338bba87ed5"
      },
      "cell_type": "code",
      "source": [
        "set([1,2,3,1])"
      ],
      "execution_count": 5,
      "outputs": [
        {
          "output_type": "execute_result",
          "data": {
            "text/plain": [
              "{1, 2, 3}"
            ]
          },
          "metadata": {},
          "execution_count": 5
        }
      ]
    },
    {
      "metadata": {
        "id": "3oTWJIJ9T0Hi",
        "colab": {
          "base_uri": "https://localhost:8080/"
        },
        "outputId": "b321e7cd-1fbb-40b8-c935-fc0441fdce55"
      },
      "cell_type": "code",
      "source": [
        "{4, 1,2,3,1}"
      ],
      "execution_count": 6,
      "outputs": [
        {
          "output_type": "execute_result",
          "data": {
            "text/plain": [
              "{1, 2, 3, 4}"
            ]
          },
          "metadata": {},
          "execution_count": 6
        }
      ]
    },
    {
      "metadata": {
        "id": "oS2PYcYET6X-",
        "colab": {
          "base_uri": "https://localhost:8080/"
        },
        "outputId": "52fa62c3-894b-482e-eb91-054a5c0fc39b"
      },
      "cell_type": "code",
      "source": [
        "type({1,2})"
      ],
      "execution_count": 7,
      "outputs": [
        {
          "output_type": "execute_result",
          "data": {
            "text/plain": [
              "set"
            ]
          },
          "metadata": {},
          "execution_count": 7
        }
      ]
    },
    {
      "metadata": {
        "id": "8sCPY4jSUEHp"
      },
      "cell_type": "code",
      "source": [
        "usuarios_data_science = {15, 23, 43, 56}\n",
        "usuarios_machine_learning = {13, 23, 56, 42}"
      ],
      "execution_count": 8,
      "outputs": []
    },
    {
      "metadata": {
        "id": "6IUQkgfCUUaC",
        "colab": {
          "base_uri": "https://localhost:8080/"
        },
        "outputId": "ac041a31-bddb-4b41-9ccd-aa35842d7582"
      },
      "cell_type": "code",
      "source": [
        "usuarios_machine_learning"
      ],
      "execution_count": 9,
      "outputs": [
        {
          "output_type": "execute_result",
          "data": {
            "text/plain": [
              "{13, 23, 42, 56}"
            ]
          },
          "metadata": {},
          "execution_count": 9
        }
      ]
    },
    {
      "metadata": {
        "id": "iZ7ISFbQUVzs",
        "colab": {
          "base_uri": "https://localhost:8080/",
          "height": 167
        },
        "outputId": "77a80791-39c8-4166-f7cd-8922ac5199cf"
      },
      "cell_type": "code",
      "source": [
        "usuarios_machine_learning[3]"
      ],
      "execution_count": 10,
      "outputs": [
        {
          "output_type": "error",
          "ename": "TypeError",
          "evalue": "ignored",
          "traceback": [
            "\u001b[0;31m---------------------------------------------------------------------------\u001b[0m",
            "\u001b[0;31mTypeError\u001b[0m                                 Traceback (most recent call last)",
            "\u001b[0;32m<ipython-input-10-ae55a602a7d7>\u001b[0m in \u001b[0;36m<module>\u001b[0;34m\u001b[0m\n\u001b[0;32m----> 1\u001b[0;31m \u001b[0musuarios_machine_learning\u001b[0m\u001b[0;34m[\u001b[0m\u001b[0;36m3\u001b[0m\u001b[0;34m]\u001b[0m\u001b[0;34m\u001b[0m\u001b[0;34m\u001b[0m\u001b[0m\n\u001b[0m",
            "\u001b[0;31mTypeError\u001b[0m: 'set' object is not subscriptable"
          ]
        }
      ]
    },
    {
      "metadata": {
        "id": "H1r6kIq8UdQ8",
        "colab": {
          "base_uri": "https://localhost:8080/"
        },
        "outputId": "8c47f0cf-d080-4607-dd62-732ba92cc1f0"
      },
      "cell_type": "code",
      "source": [
        "for usuario in set(assistiram):\n",
        "  print(usuario)"
      ],
      "execution_count": 11,
      "outputs": [
        {
          "output_type": "stream",
          "name": "stdout",
          "text": [
            "42\n",
            "43\n",
            "13\n",
            "15\n",
            "23\n",
            "56\n"
          ]
        }
      ]
    },
    {
      "metadata": {
        "id": "ZKlwF_J1Uv9J"
      },
      "cell_type": "code",
      "source": [
        "usuarios_data_science = {15, 23, 43, 56}\n",
        "usuarios_machine_learning = {13, 23, 56, 42}"
      ],
      "execution_count": 12,
      "outputs": []
    },
    {
      "metadata": {
        "id": "iY2z9zJ7U8o8",
        "colab": {
          "base_uri": "https://localhost:8080/"
        },
        "outputId": "41f0e233-fe32-42fb-a31e-0a30cd518ca2"
      },
      "cell_type": "code",
      "source": [
        "usuarios_data_science | usuarios_machine_learning"
      ],
      "execution_count": 13,
      "outputs": [
        {
          "output_type": "execute_result",
          "data": {
            "text/plain": [
              "{13, 15, 23, 42, 43, 56}"
            ]
          },
          "metadata": {},
          "execution_count": 13
        }
      ]
    },
    {
      "metadata": {
        "id": "X3bAJcJxVCdZ",
        "colab": {
          "base_uri": "https://localhost:8080/"
        },
        "outputId": "c4c86389-b903-45f4-e45b-5260e33c7448"
      },
      "cell_type": "code",
      "source": [
        "usuarios_data_science & usuarios_machine_learning"
      ],
      "execution_count": 15,
      "outputs": [
        {
          "output_type": "execute_result",
          "data": {
            "text/plain": [
              "{23, 56}"
            ]
          },
          "metadata": {},
          "execution_count": 15
        }
      ]
    },
    {
      "metadata": {
        "id": "pQQuLo3hV38a",
        "colab": {
          "base_uri": "https://localhost:8080/"
        },
        "outputId": "a74a4582-9e25-406c-8f7d-61416dbd2d80"
      },
      "cell_type": "code",
      "source": [
        "usuarios_data_science - usuarios_machine_learning"
      ],
      "execution_count": 14,
      "outputs": [
        {
          "output_type": "execute_result",
          "data": {
            "text/plain": [
              "{15, 43}"
            ]
          },
          "metadata": {},
          "execution_count": 14
        }
      ]
    },
    {
      "metadata": {
        "id": "KG9PAeRyWTJA",
        "colab": {
          "base_uri": "https://localhost:8080/"
        },
        "outputId": "d4af7705-34e7-48b9-bff9-ddd2d1159e2f"
      },
      "cell_type": "code",
      "source": [
        "fez_ds_mas_nao_fez_ml = usuarios_data_science - usuarios_machine_learning\n",
        "15 in fez_ds_mas_nao_fez_ml"
      ],
      "execution_count": 16,
      "outputs": [
        {
          "output_type": "execute_result",
          "data": {
            "text/plain": [
              "True"
            ]
          },
          "metadata": {},
          "execution_count": 16
        }
      ]
    },
    {
      "metadata": {
        "id": "_OkHSSz5WhIz",
        "colab": {
          "base_uri": "https://localhost:8080/"
        },
        "outputId": "211b7c18-1bda-4d49-b5e7-ae9a95e2f11a"
      },
      "cell_type": "code",
      "source": [
        "23 in fez_ds_mas_nao_fez_ml"
      ],
      "execution_count": 17,
      "outputs": [
        {
          "output_type": "execute_result",
          "data": {
            "text/plain": [
              "False"
            ]
          },
          "metadata": {},
          "execution_count": 17
        }
      ]
    },
    {
      "metadata": {
        "id": "rvVNkAGoWiwK",
        "colab": {
          "base_uri": "https://localhost:8080/"
        },
        "outputId": "355f627f-c775-4f68-9421-416801b28c48"
      },
      "cell_type": "code",
      "source": [
        "usuarios_data_science ^ usuarios_machine_learning"
      ],
      "execution_count": 18,
      "outputs": [
        {
          "output_type": "execute_result",
          "data": {
            "text/plain": [
              "{13, 15, 42, 43}"
            ]
          },
          "metadata": {},
          "execution_count": 18
        }
      ]
    },
    {
      "cell_type": "markdown",
      "source": [
        "# Aula 2: Operações"
      ],
      "metadata": {
        "id": "6fOC7F7OubX7"
      }
    },
    {
      "cell_type": "code",
      "source": [
        "usuarios = {1,5,76,34,52,13,17}\n",
        "len(usuarios)"
      ],
      "metadata": {
        "id": "etiU6yNAv2_V",
        "outputId": "91e06a10-1d70-4d55-eecc-b5e068862ec7",
        "colab": {
          "base_uri": "https://localhost:8080/"
        }
      },
      "execution_count": 19,
      "outputs": [
        {
          "output_type": "execute_result",
          "data": {
            "text/plain": [
              "7"
            ]
          },
          "metadata": {},
          "execution_count": 19
        }
      ]
    },
    {
      "cell_type": "code",
      "source": [
        "usuarios.add(13)\n",
        "len(usuarios)"
      ],
      "metadata": {
        "id": "jsJb59cVv-W_",
        "outputId": "03b51328-22c7-455b-b55c-9432639f0c0e",
        "colab": {
          "base_uri": "https://localhost:8080/"
        }
      },
      "execution_count": 20,
      "outputs": [
        {
          "output_type": "execute_result",
          "data": {
            "text/plain": [
              "7"
            ]
          },
          "metadata": {},
          "execution_count": 20
        }
      ]
    },
    {
      "cell_type": "markdown",
      "source": [
        "Não muda o tamanho pq o conjunto adiciona o elemento treze mas retira a duplicidade"
      ],
      "metadata": {
        "id": "TAcCMMHRwE2z"
      }
    },
    {
      "cell_type": "code",
      "source": [
        "usuarios.add(200)\n",
        "len(usuarios)"
      ],
      "metadata": {
        "id": "LAUS6-pEwNbh",
        "outputId": "eaffe818-cbdd-4911-efce-15abee3d6322",
        "colab": {
          "base_uri": "https://localhost:8080/"
        }
      },
      "execution_count": 21,
      "outputs": [
        {
          "output_type": "execute_result",
          "data": {
            "text/plain": [
              "8"
            ]
          },
          "metadata": {},
          "execution_count": 21
        }
      ]
    },
    {
      "cell_type": "code",
      "source": [
        "usuarios = frozenset(usuarios)\n",
        "usuarios.add(1000)"
      ],
      "metadata": {
        "id": "NErjOjKkwRF7",
        "outputId": "fddb518a-1694-4524-fe06-39eb497e8ec5",
        "colab": {
          "base_uri": "https://localhost:8080/",
          "height": 184
        }
      },
      "execution_count": 22,
      "outputs": [
        {
          "output_type": "error",
          "ename": "AttributeError",
          "evalue": "ignored",
          "traceback": [
            "\u001b[0;31m---------------------------------------------------------------------------\u001b[0m",
            "\u001b[0;31mAttributeError\u001b[0m                            Traceback (most recent call last)",
            "\u001b[0;32m<ipython-input-22-e5d0e1b22cac>\u001b[0m in \u001b[0;36m<module>\u001b[0;34m\u001b[0m\n\u001b[1;32m      1\u001b[0m \u001b[0musuarios\u001b[0m \u001b[0;34m=\u001b[0m \u001b[0mfrozenset\u001b[0m\u001b[0;34m(\u001b[0m\u001b[0musuarios\u001b[0m\u001b[0;34m)\u001b[0m\u001b[0;34m\u001b[0m\u001b[0;34m\u001b[0m\u001b[0m\n\u001b[0;32m----> 2\u001b[0;31m \u001b[0musuarios\u001b[0m\u001b[0;34m.\u001b[0m\u001b[0madd\u001b[0m\u001b[0;34m(\u001b[0m\u001b[0;36m1000\u001b[0m\u001b[0;34m)\u001b[0m\u001b[0;34m\u001b[0m\u001b[0;34m\u001b[0m\u001b[0m\n\u001b[0m",
            "\u001b[0;31mAttributeError\u001b[0m: 'frozenset' object has no attribute 'add'"
          ]
        }
      ]
    },
    {
      "cell_type": "markdown",
      "source": [
        "Não é possivel adicionar elementos em um conjunto congelado"
      ],
      "metadata": {
        "id": "gNuAfKFnwWVU"
      }
    },
    {
      "cell_type": "code",
      "source": [
        "type(usuarios)"
      ],
      "metadata": {
        "id": "5rbuMT0Swbjx",
        "outputId": "32655d58-cde5-4cfb-f1b2-d3b9ebf1c09e",
        "colab": {
          "base_uri": "https://localhost:8080/"
        }
      },
      "execution_count": 23,
      "outputs": [
        {
          "output_type": "execute_result",
          "data": {
            "text/plain": [
              "frozenset"
            ]
          },
          "metadata": {},
          "execution_count": 23
        }
      ]
    },
    {
      "cell_type": "markdown",
      "source": [
        "## Conjuntos de **Strings**"
      ],
      "metadata": {
        "id": "zLl99r2WwgCj"
      }
    },
    {
      "cell_type": "code",
      "source": [
        "meu_texto = \"Bem vindo meu nome é Guilherme eu gosto muito de nomes e tenho o meu cachorro e gosto muito de cachorro\""
      ],
      "metadata": {
        "id": "Q3eW0oC6wdz5"
      },
      "execution_count": 25,
      "outputs": []
    },
    {
      "cell_type": "code",
      "source": [
        "meu_texto.split()"
      ],
      "metadata": {
        "id": "r6YZpyxzwyXT",
        "outputId": "ef0212f3-4343-4cab-e681-91df61ac3443",
        "colab": {
          "base_uri": "https://localhost:8080/"
        }
      },
      "execution_count": 26,
      "outputs": [
        {
          "output_type": "execute_result",
          "data": {
            "text/plain": [
              "['Bem',\n",
              " 'vindo',\n",
              " 'meu',\n",
              " 'nome',\n",
              " 'é',\n",
              " 'Guilherme',\n",
              " 'eu',\n",
              " 'gosto',\n",
              " 'muito',\n",
              " 'de',\n",
              " 'nomes',\n",
              " 'e',\n",
              " 'tenho',\n",
              " 'o',\n",
              " 'meu',\n",
              " 'cachorro',\n",
              " 'e',\n",
              " 'gosto',\n",
              " 'muito',\n",
              " 'de',\n",
              " 'cachorro']"
            ]
          },
          "metadata": {},
          "execution_count": 26
        }
      ]
    },
    {
      "cell_type": "code",
      "source": [
        "dicionario = set(meu_texto.split())\n",
        "dicionario"
      ],
      "metadata": {
        "id": "JcW9K66CwpyR",
        "outputId": "ceefdc8c-09e0-446e-a192-990591a6cba9",
        "colab": {
          "base_uri": "https://localhost:8080/"
        }
      },
      "execution_count": 27,
      "outputs": [
        {
          "output_type": "execute_result",
          "data": {
            "text/plain": [
              "{'Bem',\n",
              " 'Guilherme',\n",
              " 'cachorro',\n",
              " 'de',\n",
              " 'e',\n",
              " 'eu',\n",
              " 'gosto',\n",
              " 'meu',\n",
              " 'muito',\n",
              " 'nome',\n",
              " 'nomes',\n",
              " 'o',\n",
              " 'tenho',\n",
              " 'vindo',\n",
              " 'é'}"
            ]
          },
          "metadata": {},
          "execution_count": 27
        }
      ]
    },
    {
      "cell_type": "markdown",
      "source": [
        "Posso representar um conjunto de strings, listando as palavras de uma frase e removendo a duplicidade"
      ],
      "metadata": {
        "id": "BRQmdWJdw4ux"
      }
    }
  ]
}