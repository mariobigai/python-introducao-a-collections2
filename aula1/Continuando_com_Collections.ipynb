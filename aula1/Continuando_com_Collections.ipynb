{
  "nbformat": 4,
  "nbformat_minor": 0,
  "metadata": {
    "colab": {
      "name": "Continuando com Collections",
      "provenance": [],
      "include_colab_link": true
    },
    "kernelspec": {
      "name": "python3",
      "display_name": "Python 3"
    }
  },
  "cells": [
    {
      "cell_type": "markdown",
      "metadata": {
        "id": "view-in-github",
        "colab_type": "text"
      },
      "source": [
        "<a href=\"https://colab.research.google.com/github/mariobigai/python-introducao-a-collections2/blob/aula01/aula1/Continuando_com_Collections.ipynb\" target=\"_parent\"><img src=\"https://colab.research.google.com/assets/colab-badge.svg\" alt=\"Open In Colab\"/></a>"
      ]
    },
    {
      "cell_type": "markdown",
      "source": [
        "## Aula 1: Conjuntos"
      ],
      "metadata": {
        "id": "zFzHgWQzNBDh"
      }
    },
    {
      "metadata": {
        "id": "u24cmniXRG2N"
      },
      "cell_type": "code",
      "source": [
        "usuarios_data_science = [15, 23, 43, 56]\n",
        "usuarios_machine_learning = [13, 23, 56, 42]"
      ],
      "execution_count": 1,
      "outputs": []
    },
    {
      "metadata": {
        "id": "BxVM4-kHRdJT",
        "colab": {
          "base_uri": "https://localhost:8080/"
        },
        "outputId": "1a5a40c2-0da1-47f7-e9c7-097ccc643d67"
      },
      "cell_type": "code",
      "source": [
        "assistiram = usuarios_data_science.copy()\n",
        "assistiram.extend(usuarios_machine_learning)\n",
        "assistiram"
      ],
      "execution_count": 2,
      "outputs": [
        {
          "output_type": "execute_result",
          "data": {
            "text/plain": [
              "[15, 23, 43, 56, 13, 23, 56, 42]"
            ]
          },
          "metadata": {},
          "execution_count": 2
        }
      ]
    },
    {
      "metadata": {
        "id": "A-PMbzh1Rwhb",
        "colab": {
          "base_uri": "https://localhost:8080/"
        },
        "outputId": "b7e31d4c-680f-4e4f-b33e-a8fd6c7cf9ca"
      },
      "cell_type": "code",
      "source": [
        "len(assistiram)"
      ],
      "execution_count": 3,
      "outputs": [
        {
          "output_type": "execute_result",
          "data": {
            "text/plain": [
              "8"
            ]
          },
          "metadata": {},
          "execution_count": 3
        }
      ]
    },
    {
      "metadata": {
        "id": "oHQEUJl1SIex",
        "colab": {
          "base_uri": "https://localhost:8080/"
        },
        "outputId": "d963cab9-7f56-4894-ad66-05501903cce5"
      },
      "cell_type": "code",
      "source": [
        "set(assistiram)"
      ],
      "execution_count": 4,
      "outputs": [
        {
          "output_type": "execute_result",
          "data": {
            "text/plain": [
              "{13, 15, 23, 42, 43, 56}"
            ]
          },
          "metadata": {},
          "execution_count": 4
        }
      ]
    },
    {
      "metadata": {
        "id": "_MWRnPUfTvft",
        "colab": {
          "base_uri": "https://localhost:8080/"
        },
        "outputId": "c3f66b09-cf52-44d7-a569-48d4b513d27b"
      },
      "cell_type": "code",
      "source": [
        "set([1,2,3,1])"
      ],
      "execution_count": 5,
      "outputs": [
        {
          "output_type": "execute_result",
          "data": {
            "text/plain": [
              "{1, 2, 3}"
            ]
          },
          "metadata": {},
          "execution_count": 5
        }
      ]
    },
    {
      "metadata": {
        "id": "3oTWJIJ9T0Hi",
        "colab": {
          "base_uri": "https://localhost:8080/"
        },
        "outputId": "11d2c563-3b11-45d7-aaf8-973923b7e548"
      },
      "cell_type": "code",
      "source": [
        "{4, 1,2,3,1}"
      ],
      "execution_count": 6,
      "outputs": [
        {
          "output_type": "execute_result",
          "data": {
            "text/plain": [
              "{1, 2, 3, 4}"
            ]
          },
          "metadata": {},
          "execution_count": 6
        }
      ]
    },
    {
      "metadata": {
        "id": "oS2PYcYET6X-",
        "colab": {
          "base_uri": "https://localhost:8080/"
        },
        "outputId": "0d615ef4-865d-4c0f-ef48-08bd4e1085d4"
      },
      "cell_type": "code",
      "source": [
        "type({1,2})"
      ],
      "execution_count": 7,
      "outputs": [
        {
          "output_type": "execute_result",
          "data": {
            "text/plain": [
              "set"
            ]
          },
          "metadata": {},
          "execution_count": 7
        }
      ]
    },
    {
      "metadata": {
        "id": "8sCPY4jSUEHp"
      },
      "cell_type": "code",
      "source": [
        "usuarios_data_science = {15, 23, 43, 56}\n",
        "usuarios_machine_learning = {13, 23, 56, 42}"
      ],
      "execution_count": 8,
      "outputs": []
    },
    {
      "metadata": {
        "id": "6IUQkgfCUUaC",
        "colab": {
          "base_uri": "https://localhost:8080/"
        },
        "outputId": "6fd74b1c-097e-4403-bed1-88a5038b1e23"
      },
      "cell_type": "code",
      "source": [
        "usuarios_machine_learning"
      ],
      "execution_count": 9,
      "outputs": [
        {
          "output_type": "execute_result",
          "data": {
            "text/plain": [
              "{13, 23, 42, 56}"
            ]
          },
          "metadata": {},
          "execution_count": 9
        }
      ]
    },
    {
      "metadata": {
        "id": "iZ7ISFbQUVzs",
        "colab": {
          "base_uri": "https://localhost:8080/",
          "height": 167
        },
        "outputId": "3edf8d55-ac9e-4bc7-bf3d-614df7f67d82"
      },
      "cell_type": "code",
      "source": [
        "usuarios_machine_learning[3]"
      ],
      "execution_count": 10,
      "outputs": [
        {
          "output_type": "error",
          "ename": "TypeError",
          "evalue": "ignored",
          "traceback": [
            "\u001b[0;31m---------------------------------------------------------------------------\u001b[0m",
            "\u001b[0;31mTypeError\u001b[0m                                 Traceback (most recent call last)",
            "\u001b[0;32m<ipython-input-10-ae55a602a7d7>\u001b[0m in \u001b[0;36m<module>\u001b[0;34m\u001b[0m\n\u001b[0;32m----> 1\u001b[0;31m \u001b[0musuarios_machine_learning\u001b[0m\u001b[0;34m[\u001b[0m\u001b[0;36m3\u001b[0m\u001b[0;34m]\u001b[0m\u001b[0;34m\u001b[0m\u001b[0;34m\u001b[0m\u001b[0m\n\u001b[0m",
            "\u001b[0;31mTypeError\u001b[0m: 'set' object is not subscriptable"
          ]
        }
      ]
    },
    {
      "metadata": {
        "id": "H1r6kIq8UdQ8",
        "colab": {
          "base_uri": "https://localhost:8080/"
        },
        "outputId": "54f70879-b911-4fcf-f23a-19a437f68353"
      },
      "cell_type": "code",
      "source": [
        "for usuario in set(assistiram):\n",
        "  print(usuario)"
      ],
      "execution_count": 13,
      "outputs": [
        {
          "output_type": "stream",
          "name": "stdout",
          "text": [
            "42\n",
            "43\n",
            "13\n",
            "15\n",
            "23\n",
            "56\n"
          ]
        }
      ]
    },
    {
      "metadata": {
        "id": "ZKlwF_J1Uv9J"
      },
      "cell_type": "code",
      "source": [
        "usuarios_data_science = {15, 23, 43, 56}\n",
        "usuarios_machine_learning = {13, 23, 56, 42}"
      ],
      "execution_count": 14,
      "outputs": []
    },
    {
      "metadata": {
        "id": "iY2z9zJ7U8o8",
        "colab": {
          "base_uri": "https://localhost:8080/"
        },
        "outputId": "b3a974ea-308a-4416-85a9-7df2ad328934"
      },
      "cell_type": "code",
      "source": [
        "usuarios_data_science | usuarios_machine_learning"
      ],
      "execution_count": 15,
      "outputs": [
        {
          "output_type": "execute_result",
          "data": {
            "text/plain": [
              "{13, 15, 23, 42, 43, 56}"
            ]
          },
          "metadata": {},
          "execution_count": 15
        }
      ]
    },
    {
      "metadata": {
        "id": "X3bAJcJxVCdZ",
        "colab": {
          "base_uri": "https://localhost:8080/"
        },
        "outputId": "a9b03cd7-e1d5-4967-bf8b-70a53304492a"
      },
      "cell_type": "code",
      "source": [
        "usuarios_data_science & usuarios_machine_learning"
      ],
      "execution_count": 16,
      "outputs": [
        {
          "output_type": "execute_result",
          "data": {
            "text/plain": [
              "{23, 56}"
            ]
          },
          "metadata": {},
          "execution_count": 16
        }
      ]
    },
    {
      "metadata": {
        "id": "pQQuLo3hV38a",
        "colab": {
          "base_uri": "https://localhost:8080/"
        },
        "outputId": "b7e045aa-c872-4163-8539-ffd438dd545b"
      },
      "cell_type": "code",
      "source": [
        "usuarios_data_science - usuarios_machine_learning"
      ],
      "execution_count": 17,
      "outputs": [
        {
          "output_type": "execute_result",
          "data": {
            "text/plain": [
              "{15, 43}"
            ]
          },
          "metadata": {},
          "execution_count": 17
        }
      ]
    },
    {
      "metadata": {
        "id": "KG9PAeRyWTJA",
        "colab": {
          "base_uri": "https://localhost:8080/"
        },
        "outputId": "f74e6612-2148-44ba-e88c-d4d6eb09a91a"
      },
      "cell_type": "code",
      "source": [
        "fez_ds_mas_nao_fez_ml = usuarios_data_science - usuarios_machine_learning\n",
        "15 in fez_ds_mas_nao_fez_ml"
      ],
      "execution_count": 18,
      "outputs": [
        {
          "output_type": "execute_result",
          "data": {
            "text/plain": [
              "True"
            ]
          },
          "metadata": {},
          "execution_count": 18
        }
      ]
    },
    {
      "metadata": {
        "id": "_OkHSSz5WhIz",
        "colab": {
          "base_uri": "https://localhost:8080/"
        },
        "outputId": "e322a232-fe84-4296-f429-551f347e7c4b"
      },
      "cell_type": "code",
      "source": [
        "23 in fez_ds_mas_nao_fez_ml"
      ],
      "execution_count": 19,
      "outputs": [
        {
          "output_type": "execute_result",
          "data": {
            "text/plain": [
              "False"
            ]
          },
          "metadata": {},
          "execution_count": 19
        }
      ]
    },
    {
      "metadata": {
        "id": "rvVNkAGoWiwK",
        "colab": {
          "base_uri": "https://localhost:8080/"
        },
        "outputId": "abd3ad09-60fe-40ed-8a62-e13e582f08b5"
      },
      "cell_type": "code",
      "source": [
        "usuarios_data_science ^ usuarios_machine_learning"
      ],
      "execution_count": 20,
      "outputs": [
        {
          "output_type": "execute_result",
          "data": {
            "text/plain": [
              "{13, 15, 42, 43}"
            ]
          },
          "metadata": {},
          "execution_count": 20
        }
      ]
    }
  ]
}